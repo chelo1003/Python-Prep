{
 "cells": [
  {
   "attachments": {},
   "cell_type": "markdown",
   "metadata": {},
   "source": [
    "## Flujos de Control"
   ]
  },
  {
   "attachments": {},
   "cell_type": "markdown",
   "metadata": {},
   "source": [
    "1) Crear una variable que contenga un elemento del conjunto de números enteros y luego imprimir por pantalla si es mayor o menor a cero"
   ]
  },
  {
   "cell_type": "code",
   "execution_count": 3,
   "metadata": {},
   "outputs": [
    {
     "name": "stdout",
     "output_type": "stream",
     "text": [
      "x es igual a cero.\n"
     ]
    }
   ],
   "source": [
    "x = 0\n",
    "if (x<0):\n",
    "    print(\"x es menor que cero.\")\n",
    "elif (x>0):\n",
    "    print(\"x es mayor que cero.\")\n",
    "else:\n",
    "    print(\"x es igual a cero.\")\n"
   ]
  },
  {
   "attachments": {},
   "cell_type": "markdown",
   "metadata": {},
   "source": [
    "2) Crear dos variables y un condicional que informe si son del mismo tipo de dato"
   ]
  },
  {
   "cell_type": "code",
   "execution_count": 5,
   "metadata": {},
   "outputs": [
    {
     "name": "stdout",
     "output_type": "stream",
     "text": [
      "Mismo tipo de datos\n"
     ]
    }
   ],
   "source": [
    "x = 5\n",
    "y = 2\n",
    "if (type(x) == type(y)):\n",
    "    print(\"Mismo tipo de datos\")\n",
    "else:\n",
    "    print(\"Distinto tipo de datos.\")"
   ]
  },
  {
   "attachments": {},
   "cell_type": "markdown",
   "metadata": {},
   "source": [
    "3) Para los valores enteros del 1 al 20, imprimir por pantalla si es par o impar"
   ]
  },
  {
   "cell_type": "code",
   "execution_count": 9,
   "metadata": {},
   "outputs": [
    {
     "name": "stdout",
     "output_type": "stream",
     "text": [
      "El número 1 es impar.\n",
      "El número 2 es par.\n",
      "El número 3 es impar.\n",
      "El número 4 es par.\n",
      "El número 5 es impar.\n",
      "El número 6 es par.\n",
      "El número 7 es impar.\n",
      "El número 8 es par.\n",
      "El número 9 es impar.\n",
      "El número 10 es par.\n",
      "El número 11 es impar.\n",
      "El número 12 es par.\n",
      "El número 13 es impar.\n",
      "El número 14 es par.\n",
      "El número 15 es impar.\n",
      "El número 16 es par.\n",
      "El número 17 es impar.\n",
      "El número 18 es par.\n",
      "El número 19 es impar.\n",
      "El número 20 es par.\n"
     ]
    }
   ],
   "source": [
    "for numero in range(1, 21):\n",
    "    if ((numero % 2) == 0):\n",
    "        print(\"El número\", numero, \"es par.\")\n",
    "    else:\n",
    "        print(\"El número\", numero, \"es impar.\")\n",
    "\n"
   ]
  },
  {
   "attachments": {},
   "cell_type": "markdown",
   "metadata": {},
   "source": [
    "4) En un ciclo for mostrar para los valores entre 0 y 5 el resultado de elevarlo a la potencia igual a 3"
   ]
  },
  {
   "cell_type": "code",
   "execution_count": 10,
   "metadata": {},
   "outputs": [
    {
     "name": "stdout",
     "output_type": "stream",
     "text": [
      "0\n",
      "1\n",
      "8\n",
      "27\n",
      "64\n"
     ]
    }
   ],
   "source": [
    "for x in range(5):\n",
    "    print(x**3)"
   ]
  },
  {
   "attachments": {},
   "cell_type": "markdown",
   "metadata": {},
   "source": [
    "5) Crear una variable que contenga un número entero y realizar un ciclo for la misma cantidad de ciclos"
   ]
  },
  {
   "cell_type": "code",
   "execution_count": 15,
   "metadata": {},
   "outputs": [
    {
     "name": "stdout",
     "output_type": "stream",
     "text": [
      "Ciclo número 1\n",
      "Ciclo número 2\n",
      "Ciclo número 3\n",
      "Ciclo número 4\n",
      "Ciclo número 5\n",
      "Ciclo número 6\n",
      "Ciclo número 7\n",
      "Ciclo número 8\n"
     ]
    }
   ],
   "source": [
    "x=8\n",
    "for ciclo in range(1, x+1):\n",
    "    print(\"Ciclo número\", ciclo)"
   ]
  },
  {
   "attachments": {},
   "cell_type": "markdown",
   "metadata": {},
   "source": [
    "6) Utilizar un ciclo while para realizar el factorial de un número guardado en una variable, sólo si la variable contiene un número entero mayor a 0"
   ]
  },
  {
   "cell_type": "code",
   "execution_count": 20,
   "metadata": {},
   "outputs": [
    {
     "name": "stdout",
     "output_type": "stream",
     "text": [
      "120\n"
     ]
    }
   ],
   "source": [
    "x=5\n",
    "factorial=1\n",
    "while x>0:\n",
    "    factorial*=x\n",
    "    x-=1\n",
    "print(factorial)\n"
   ]
  },
  {
   "attachments": {},
   "cell_type": "markdown",
   "metadata": {},
   "source": [
    "7) Crear un ciclo for dentro de un ciclo while"
   ]
  },
  {
   "cell_type": "code",
   "execution_count": 25,
   "metadata": {},
   "outputs": [
    {
     "name": "stdout",
     "output_type": "stream",
     "text": [
      "Iteración 1 de ciclo 1\n",
      "Iteración 1 de ciclo 2\n",
      "Iteración 2 de ciclo 2\n",
      "Iteración 1 de ciclo 3\n",
      "Iteración 2 de ciclo 3\n",
      "Iteración 3 de ciclo 3\n",
      "Iteración 1 de ciclo 4\n",
      "Iteración 2 de ciclo 4\n",
      "Iteración 3 de ciclo 4\n",
      "Iteración 4 de ciclo 4\n"
     ]
    }
   ],
   "source": [
    "x=1\n",
    "while x<5:\n",
    "    for numero in range(x):\n",
    "        numero+=1\n",
    "        print(\"Iteración\", numero, \"de ciclo\", x)\n",
    "    x+=1\n"
   ]
  },
  {
   "attachments": {},
   "cell_type": "markdown",
   "metadata": {},
   "source": [
    "8) Crear un ciclo while dentro de un ciclo for"
   ]
  },
  {
   "cell_type": "code",
   "execution_count": 2,
   "metadata": {},
   "outputs": [
    {
     "name": "stdout",
     "output_type": "stream",
     "text": [
      "While 1 del For 1\n",
      "While 2 del For 1\n",
      "While 3 del For 1\n",
      "While 4 del For 1\n",
      "While 1 del For 2\n",
      "While 2 del For 2\n",
      "While 3 del For 2\n",
      "While 4 del For 2\n",
      "While 1 del For 3\n",
      "While 2 del For 3\n",
      "While 3 del For 3\n",
      "While 4 del For 3\n"
     ]
    }
   ],
   "source": [
    "for x in range(1, 4):\n",
    "    i=0\n",
    "    while i<4:\n",
    "        i+=1\n",
    "        print(\"While\", i, \"del For\", x)\n",
    "    \n"
   ]
  },
  {
   "attachments": {},
   "cell_type": "markdown",
   "metadata": {},
   "source": [
    "9) Imprimir los números primos existentes entre 0 y 30"
   ]
  },
  {
   "cell_type": "code",
   "execution_count": 20,
   "metadata": {},
   "outputs": [
    {
     "name": "stdout",
     "output_type": "stream",
     "text": [
      "2\n",
      "3\n",
      "5\n",
      "7\n",
      "11\n",
      "13\n",
      "17\n",
      "19\n",
      "23\n",
      "29\n"
     ]
    }
   ],
   "source": [
    "for numero in range (2, 30):\n",
    "    divisor = numero -1\n",
    "    while divisor>0:\n",
    "        if float(numero%divisor) != 0:\n",
    "            divisor-=1\n",
    "        elif divisor == 1:\n",
    "            print(numero)\n",
    "            break\n",
    "        else:\n",
    "            break\n",
    "\n",
    "    \n"
   ]
  },
  {
   "attachments": {},
   "cell_type": "markdown",
   "metadata": {},
   "source": [
    "10) ¿Se puede mejorar el proceso del punto 9? Utilizar las sentencias break y/ó continue para tal fin"
   ]
  },
  {
   "cell_type": "code",
   "execution_count": null,
   "metadata": {},
   "outputs": [],
   "source": [
    "#Ya lo hice desde el inicio con break"
   ]
  },
  {
   "attachments": {},
   "cell_type": "markdown",
   "metadata": {},
   "source": [
    "11) En los puntos 9 y 10, se diseño un código que encuentra números primos y además se lo optimizó. ¿Es posible saber en qué medida se optimizó?"
   ]
  },
  {
   "cell_type": "code",
   "execution_count": null,
   "metadata": {},
   "outputs": [],
   "source": [
    "#Si, es posible medir la cantidad de iteraciones que realiza el programa para finalizar, y de esta manera, comparando la cantidad de iteraciones se sabe en grado de optimización."
   ]
  },
  {
   "attachments": {},
   "cell_type": "markdown",
   "metadata": {},
   "source": [
    "12) Aplicando continue, armar un ciclo while que solo imprima los valores divisibles por 12, dentro del rango de números de 100 a 300"
   ]
  },
  {
   "cell_type": "code",
   "execution_count": 25,
   "metadata": {},
   "outputs": [
    {
     "name": "stdout",
     "output_type": "stream",
     "text": [
      "108\n",
      "120\n",
      "132\n",
      "144\n",
      "156\n",
      "168\n",
      "180\n",
      "192\n",
      "204\n",
      "216\n",
      "228\n",
      "240\n",
      "252\n",
      "264\n",
      "276\n",
      "288\n",
      "300\n"
     ]
    }
   ],
   "source": [
    "numero = 99\n",
    "while numero<=300:\n",
    "    numero+=1\n",
    "    if numero%12 == 0:\n",
    "        print(numero)\n",
    "    else:\n",
    "        continue\n",
    "\n",
    "\n"
   ]
  },
  {
   "attachments": {},
   "cell_type": "markdown",
   "metadata": {},
   "source": [
    "13) Utilizar la función **input()** que permite hacer ingresos por teclado, para encontrar números primos y dar la opción al usario de buscar el siguiente"
   ]
  },
  {
   "cell_type": "code",
   "execution_count": 23,
   "metadata": {},
   "outputs": [
    {
     "name": "stdout",
     "output_type": "stream",
     "text": [
      "El número 7 es primo.\n",
      "El número 5 es primo.\n"
     ]
    }
   ],
   "source": [
    "pregunta = input(\"Si desea saber si un número es primo presione: y, de lo contrario presione cualquier tecla\")\n",
    "while (pregunta == \"y\"):\n",
    "    numero = input(\"Ingrese un número para saber si es primo:\")\n",
    "    divisor = int(numero) -1\n",
    "\n",
    "    while divisor>0:\n",
    "        if int(numero)%divisor != 0:\n",
    "            divisor-=1\n",
    "        elif divisor == 1:\n",
    "            print(\"El número\", numero, \"es primo.\")\n",
    "            break\n",
    "        else:\n",
    "            print(\"El número\", numero, \"NO es primo.\")\n",
    "            break\n",
    "    pregunta = input(\"Si desea saber si un número es primo presione: y, de lo contrario presione cualquier tecla\")\n"
   ]
  },
  {
   "attachments": {},
   "cell_type": "markdown",
   "metadata": {},
   "source": [
    "14) Crear un ciclo while que encuentre dentro del rango de 100 a 300 el primer número divisible por 3 y además múltiplo de 6"
   ]
  },
  {
   "cell_type": "code",
   "execution_count": 29,
   "metadata": {},
   "outputs": [
    {
     "name": "stdout",
     "output_type": "stream",
     "text": [
      "El número es: 102\n"
     ]
    }
   ],
   "source": [
    "numero = 99\n",
    "while numero<=300:\n",
    "    numero+=1\n",
    "    if (numero%3 == 0 and numero%6 == 0):\n",
    "        print(\"El número es:\", str(numero))\n",
    "        break\n",
    "    else:\n",
    "        continue"
   ]
  }
 ],
 "metadata": {
  "interpreter": {
   "hash": "c85384e4cb51c8b72350f3a8712cc8351fdc3955e32a27f9b60c6242ab125f01"
  },
  "kernelspec": {
   "display_name": "Python 3 (ipykernel)",
   "language": "python",
   "name": "python3"
  },
  "language_info": {
   "codemirror_mode": {
    "name": "ipython",
    "version": 3
   },
   "file_extension": ".py",
   "mimetype": "text/x-python",
   "name": "python",
   "nbconvert_exporter": "python",
   "pygments_lexer": "ipython3",
   "version": "3.11.5"
  }
 },
 "nbformat": 4,
 "nbformat_minor": 4
}
