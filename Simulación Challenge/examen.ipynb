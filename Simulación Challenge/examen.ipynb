{
 "cells": [
  {
   "cell_type": "code",
   "execution_count": 233,
   "metadata": {},
   "outputs": [],
   "source": [
    "def ordenarDiccionario(diccionario, clave, ascendente=True):\n",
    "    # Write your code here\n",
    "    todas_las_claves = diccionario.keys()\n",
    "    \n",
    "    if clave not in todas_las_claves:\n",
    "        return None\n",
    "            \n",
    "        \n",
    "    clave1 = str(clave)\n",
    "    lista_clave_orig = []\n",
    "    lista_clave_modif = []\n",
    "    diccionario_ordenado = dict()\n",
    "    lista_mover = []\n",
    "    lista_original = diccionario[clave1]\n",
    "    lista_ordenada = lista_original.copy()\n",
    "\n",
    "    if ascendente is True:\n",
    "        lista_ordenada.sort()\n",
    "    \n",
    "    if ascendente is False:\n",
    "        lista_ordenada.sort(reverse=True)\n",
    "\n",
    "    #print(lista_original)\n",
    "    #print(lista_ordenada)\n",
    "    \n",
    "    for elemento_ord in lista_ordenada:              \n",
    "        for elem_orig in lista_original:\n",
    "            if elemento_ord == elem_orig:\n",
    "                posicion_movida = lista_original.index(elem_orig)\n",
    "                lista_mover.append(posicion_movida)\n",
    "    \n",
    "    #print(lista_mover)\n",
    "\n",
    "    #Hasta acá, obtengo la lista que me guía para ordenar las listas del diccionario\n",
    "\n",
    "\n",
    "    for c in diccionario.keys():\n",
    "        #print(c)\n",
    "        clave2 = str(c)\n",
    "        lista_clave_orig = diccionario[clave2]\n",
    "        #print(lista_clave_orig)\n",
    "\n",
    "        for orden in lista_mover:                \n",
    "            lista_clave_modif.append(lista_clave_orig[orden])\n",
    "            #print(lista_clave_orig[orden])\n",
    "        \n",
    "        #print(lista_clave_modif)\n",
    "        \n",
    "        diccionario_ordenado[c] = lista_clave_modif\n",
    "        lista_clave_modif = []\n",
    "        \n",
    "    return diccionario_ordenado"
   ]
  },
  {
   "cell_type": "code",
   "execution_count": 231,
   "metadata": {},
   "outputs": [],
   "source": [
    "dicc = {  'Clave1': [\"c\", \"a\", \"b\"],  \n",
    "'Clave2': [\"casa\", \"auto\", \"barco\"], \n",
    "'Clave3' : [1, 2, 3]}\n"
   ]
  },
  {
   "cell_type": "code",
   "execution_count": 236,
   "metadata": {},
   "outputs": [
    {
     "data": {
      "text/plain": [
       "{'Clave1': ['c', 'a', 'b'],\n",
       " 'Clave2': ['casa', 'auto', 'barco'],\n",
       " 'Clave3': [1, 2, 3]}"
      ]
     },
     "execution_count": 236,
     "metadata": {},
     "output_type": "execute_result"
    }
   ],
   "source": [
    "ordenarDiccionario(dicc, \"Clave3\", True)"
   ]
  },
  {
   "cell_type": "code",
   "execution_count": 171,
   "metadata": {},
   "outputs": [
    {
     "name": "stdout",
     "output_type": "stream",
     "text": [
      "[2, 4, 10, 11, 13, 13, 15, 24, 25, 29, 48, 65, 77, 212]\n",
      "<class 'list'>\n"
     ]
    }
   ],
   "source": [
    "lista_original = [2,4,25,13,24,15,65,77,48,29,10,11,212,13]\n",
    "lista_ordenada = lista_original.copy()\n",
    "lista_ordenada.sort()\n",
    "print(lista_ordenada)\n",
    "print(type(lista_ordenada))"
   ]
  },
  {
   "cell_type": "code",
   "execution_count": 173,
   "metadata": {},
   "outputs": [
    {
     "name": "stdout",
     "output_type": "stream",
     "text": [
      "[1, 2, 3, 4, 5, 6, 7, 8, 9, 10, 11, 12, 13]\n",
      "<class 'NoneType'>\n"
     ]
    }
   ],
   "source": [
    "dicc = {  'Ciudad': [1,2,3,4,5,6,7,8,9,10,11,12,13],  \n",
    "'País': ['Brasil','Paraguay','Ecuador','Uruguay','Chile','Perú','Venezuela','Colombia','Méjico','Uruguay','España','Italia','Francia'], \n",
    "'Continente' : ['América','América','América','América','América','América','América','América','América','América','Europa','Europa','Europa']}\n",
    "\n",
    "clave1 = str(\"Ciudad\")\n",
    "\n",
    "listaclave = dicc[clave1]\n",
    "listaordenada = listaclave.sort()\n",
    "\n",
    "print(listaclave)\n",
    "print(type(listaordenada))\n"
   ]
  },
  {
   "cell_type": "code",
   "execution_count": 13,
   "metadata": {},
   "outputs": [
    {
     "name": "stdout",
     "output_type": "stream",
     "text": [
      "[5, 12, 13, 14, 23]\n"
     ]
    }
   ],
   "source": [
    "milista = [12,23,13,14,5]\n",
    "milista.sort()\n",
    "print(milista)"
   ]
  },
  {
   "cell_type": "code",
   "execution_count": 24,
   "metadata": {},
   "outputs": [
    {
     "name": "stdout",
     "output_type": "stream",
     "text": [
      "1100\n",
      "<class 'int'>\n"
     ]
    }
   ],
   "source": [
    "binario = bin(12)\n",
    "binariostr = str(binario)\n",
    "lista = list(binariostr)\n",
    "lista.pop(0)\n",
    "lista.pop(0)\n",
    "salidastr = \"\"\n",
    "for numero in lista:\n",
    "    salidastr += numero\n",
    "\n",
    "numfinal = int(salidastr)\n",
    "\n",
    "print(numfinal)\n",
    "print(type(numfinal))"
   ]
  },
  {
   "cell_type": "code",
   "execution_count": 38,
   "metadata": {},
   "outputs": [
    {
     "name": "stdout",
     "output_type": "stream",
     "text": [
      "False\n"
     ]
    }
   ],
   "source": [
    "escapicua = True\n",
    "numerostr = str(64)\n",
    "lista = list(numerostr)\n",
    "cantidad = lista.__len__() -1\n",
    "posicion = 0\n",
    "\n",
    "while posicion <= cantidad:\n",
    "    if lista[posicion] != lista[cantidad-posicion]:\n",
    "        escapicua = False\n",
    "    posicion +=1\n",
    "             \n",
    "\n",
    "print(escapicua)"
   ]
  },
  {
   "cell_type": "code",
   "execution_count": 39,
   "metadata": {},
   "outputs": [],
   "source": [
    "def listaPrimos(desde, hasta):\n",
    "\n",
    "    lista_primos = []\n",
    "\n",
    "    for numero in range(desde,hasta):\n",
    "         lista_primos.append(numero)\n",
    "\n",
    "    lista_resultado=[]\n",
    "    for numero in lista_primos:\n",
    "        divisor = numero -1\n",
    "        if divisor>0:\n",
    "            while divisor>0:\n",
    "                    if int(numero)%divisor != 0:\n",
    "                        divisor-=1\n",
    "                    elif divisor == 1:\n",
    "                        lista_resultado.append(numero)\n",
    "                        break\n",
    "                    else:\n",
    "                        break\n",
    "    \n",
    "    return lista_resultado"
   ]
  },
  {
   "cell_type": "code",
   "execution_count": 40,
   "metadata": {},
   "outputs": [
    {
     "data": {
      "text/plain": [
       "[3, 5, 7, 11, 13, 17, 19]"
      ]
     },
     "execution_count": 40,
     "metadata": {},
     "output_type": "execute_result"
    }
   ],
   "source": [
    "listaPrimos(3,23)\n",
    "\n"
   ]
  },
  {
   "cell_type": "code",
   "execution_count": 75,
   "metadata": {},
   "outputs": [],
   "source": [
    "def factorizarNumero(numero):\n",
    "    if numero <= 0:\n",
    "        return None\n",
    "    if type(numero) is not int:\n",
    "        return None\n",
    "    \n",
    "\n",
    "    lista_factores = []\n",
    "    lista_cuenta = []\n",
    "    divisor = 2\n",
    "    cuenta = 0\n",
    "\n",
    "    while numero >1:        \n",
    "        if numero % divisor == 0:\n",
    "            numero /= divisor\n",
    "            if divisor in lista_factores:\n",
    "                cuenta +=1\n",
    "            else:\n",
    "                cuenta += 1\n",
    "                lista_factores.append(divisor)\n",
    "\n",
    "        else:\n",
    "            if cuenta != 0:\n",
    "                lista_cuenta.append(cuenta)\n",
    "            divisor +=1\n",
    "            cuenta = 0\n",
    "    lista_cuenta.append(cuenta)\n",
    "\n",
    "    lista_salida = [lista_factores, lista_cuenta]\n",
    "    return lista_salida\n",
    "\n"
   ]
  },
  {
   "cell_type": "code",
   "execution_count": 74,
   "metadata": {},
   "outputs": [
    {
     "name": "stdout",
     "output_type": "stream",
     "text": [
      "[[5], [2]]\n"
     ]
    }
   ],
   "source": [
    "factorizarNumero(25)"
   ]
  },
  {
   "cell_type": "code",
   "execution_count": 166,
   "metadata": {},
   "outputs": [],
   "source": [
    "def ordenarPalabras(palabras):\n",
    "    # Escribe aqui tu codigo:\n",
    "    como_string = str(palabras)\n",
    "\n",
    "    if como_string.find(\"-\") == -1:\n",
    "        return None\n",
    "\n",
    "    \n",
    "    como_string = como_string.replace(\"-\", \" \")\n",
    "    como_string = como_string.strip()\n",
    "    lista_inicial = list(como_string)\n",
    "\n",
    "\n",
    "    cada_palabra = \"\"\n",
    "    lista_palabras = []\n",
    "\n",
    "    for letra in lista_inicial:\n",
    "        if letra != \" \":\n",
    "            cada_palabra += letra\n",
    "        else: \n",
    "            lista_palabras.append(cada_palabra)\n",
    "            cada_palabra = \"\"\n",
    "    lista_palabras.append(cada_palabra)\n",
    "\n",
    "    lista_palabras.sort()\n",
    "\n",
    "    string_salida = \"\"\n",
    "\n",
    "    for palabra in lista_palabras:\n",
    "        for letra in palabra:\n",
    "            string_salida += letra    \n",
    "        if lista_palabras.index(palabra) != lista_palabras.__len__() -1:\n",
    "            string_salida += \"-\"\n",
    "\n",
    "    print(string_salida)\n",
    "    print(type(string_salida))\n",
    "\n"
   ]
  },
  {
   "cell_type": "code",
   "execution_count": 167,
   "metadata": {},
   "outputs": [
    {
     "name": "stdout",
     "output_type": "stream",
     "text": [
      "casa-luli-marce-mono\n",
      "<class 'str'>\n"
     ]
    }
   ],
   "source": [
    "ordenarPalabras(\"marce-luli-casa-mono\")"
   ]
  },
  {
   "cell_type": "code",
   "execution_count": null,
   "metadata": {},
   "outputs": [],
   "source": [
    "\n",
    "    como_string = como_string.replace(\" \", \", \")\n",
    "\n",
    "    lista_palabras = list(como_string)"
   ]
  }
 ],
 "metadata": {
  "kernelspec": {
   "display_name": "Python 3",
   "language": "python",
   "name": "python3"
  },
  "language_info": {
   "codemirror_mode": {
    "name": "ipython",
    "version": 3
   },
   "file_extension": ".py",
   "mimetype": "text/x-python",
   "name": "python",
   "nbconvert_exporter": "python",
   "pygments_lexer": "ipython3",
   "version": "3.11.5"
  }
 },
 "nbformat": 4,
 "nbformat_minor": 2
}
