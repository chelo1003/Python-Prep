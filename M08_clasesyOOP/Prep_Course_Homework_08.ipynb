{
 "cells": [
  {
   "attachments": {},
   "cell_type": "markdown",
   "metadata": {},
   "source": [
    "## Clases y Programación Orientada a Objetos"
   ]
  },
  {
   "attachments": {},
   "cell_type": "markdown",
   "metadata": {},
   "source": [
    "1) Crear la clase vehículo que contenga los atributos:<br>\n",
    "Color<br>\n",
    "Si es moto, auto, camioneta ó camión<br>\n",
    "Cilindrada del motor"
   ]
  },
  {
   "cell_type": "code",
   "execution_count": 1,
   "metadata": {},
   "outputs": [],
   "source": [
    "class Vehiculo:\n",
    "    def __init__(self, segmento, color, cilindrada):\n",
    "        self.segmento = segmento\n",
    "        self.color = color\n",
    "        self.cilindrada = cilindrada"
   ]
  },
  {
   "attachments": {},
   "cell_type": "markdown",
   "metadata": {},
   "source": [
    "2) A la clase Vehiculo creada en el punto 1, agregar los siguientes métodos:<br>\n",
    "Acelerar<br>\n",
    "Frenar<br>\n",
    "Doblar<br>"
   ]
  },
  {
   "cell_type": "code",
   "execution_count": 10,
   "metadata": {},
   "outputs": [],
   "source": [
    "class Vehiculo:\n",
    "    def __init__(self, segmento, color, cilindrada, velocidad, direccion):\n",
    "        self.segmento = segmento\n",
    "        self.color = color\n",
    "        self.cilindrada = cilindrada\n",
    "        self.velocidad = 0\n",
    "        self.direccion = 0\n",
    "        \n",
    "    def acelerar(self, aceleracion):\n",
    "        self.velocidad += aceleracion\n",
    "\n",
    "    def frenar(self, frenado):\n",
    "        self.velocidad -= frenado\n",
    "\n",
    "    def doblar(self, doblado):\n",
    "        self.direccion += doblado"
   ]
  },
  {
   "attachments": {},
   "cell_type": "markdown",
   "metadata": {},
   "source": [
    "3) Instanciar 3 objetos de la clase vehículo y ejecutar sus métodos, probar luego el resultado"
   ]
  },
  {
   "cell_type": "code",
   "execution_count": 12,
   "metadata": {},
   "outputs": [],
   "source": [
    "vehiculo1 = Vehiculo(\"Auto\", \"Rojo\", 1.8, 0, 0)\n",
    "vehiculo2 = Vehiculo(\"Camioneta\", \"Blanco\", 2.5, 0, 0)\n",
    "vehiculo3 = Vehiculo(\"Camion\", \"Blanco\", 6.6, 0, 0)\n",
    "\n",
    "vehiculo1.acelerar(20)\n",
    "vehiculo1.frenar(10)\n",
    "vehiculo2.acelerar(30)\n",
    "vehiculo3.doblar(90)"
   ]
  },
  {
   "attachments": {},
   "cell_type": "markdown",
   "metadata": {},
   "source": [
    "4) Agregar a la clase Vehiculo, un método que muestre su estado, es decir, a que velocidad se encuentra y su dirección. Y otro método que muestre color, tipo y cilindrada"
   ]
  },
  {
   "cell_type": "code",
   "execution_count": 14,
   "metadata": {},
   "outputs": [],
   "source": [
    "class Vehiculo:\n",
    "    def __init__(self, segmento, color, cilindrada, velocidad, direccion):\n",
    "        self.segmento = segmento\n",
    "        self.color = color\n",
    "        self.cilindrada = cilindrada\n",
    "        self.velocidad = 0\n",
    "        self.direccion = 0\n",
    "        \n",
    "    def acelerar(self, aceleracion):\n",
    "        self.velocidad += aceleracion\n",
    "\n",
    "    def frenar(self, frenado):\n",
    "        self.velocidad -= frenado\n",
    "\n",
    "    def doblar(self, doblado):\n",
    "        self.direccion += doblado\n",
    "\n",
    "    def estado(self):\n",
    "        print(\"Velocidad: \", self.velocidad, \"Direccion: \", self.direccion)\n",
    "    \n",
    "    def caracteristicas(self):\n",
    "        print(\"Segmento: \", self.segmento, \"Color: \", self.color, \"Cilindrada: \", self.cilindrada)\n"
   ]
  },
  {
   "cell_type": "code",
   "execution_count": 15,
   "metadata": {},
   "outputs": [
    {
     "name": "stdout",
     "output_type": "stream",
     "text": [
      "Velocidad:  30 Direccion:  0\n",
      "Segmento:  Auto Color:  Rojo Cilindrada:  1.8\n"
     ]
    }
   ],
   "source": [
    "vehiculo1 = Vehiculo(\"Auto\", \"Rojo\", 1.8, 0, 0)\n",
    "vehiculo2 = Vehiculo(\"Camioneta\", \"Blanco\", 2.5, 0, 0)\n",
    "vehiculo3 = Vehiculo(\"Camion\", \"Blanco\", 6.6, 0, 0)\n",
    "\n",
    "vehiculo1.acelerar(20)\n",
    "vehiculo1.frenar(10)\n",
    "vehiculo2.acelerar(30)\n",
    "vehiculo3.doblar(90)\n",
    "\n",
    "vehiculo2.estado()\n",
    "vehiculo1.caracteristicas()"
   ]
  },
  {
   "attachments": {},
   "cell_type": "markdown",
   "metadata": {},
   "source": [
    "5) Crear una clase que permita utilizar las funciones creadas en la práctica del módulo 7<br>\n",
    "Verificar Primo<br>\n",
    "Valor modal<br>\n",
    "Conversión grados<br>\n",
    "Factorial<br>"
   ]
  },
  {
   "cell_type": "code",
   "execution_count": 24,
   "metadata": {},
   "outputs": [],
   "source": [
    "class Herramientas:\n",
    "    def __init__(self) -> None:\n",
    "        pass\n",
    "\n",
    "    def numero_primo(self, numero):\n",
    "        divisor = numero -1\n",
    "        if divisor>0:\n",
    "            while divisor>0:\n",
    "                    if int(numero)%divisor != 0:\n",
    "                        divisor-=1\n",
    "                    elif divisor == 1:\n",
    "                        return True\n",
    "                    else:\n",
    "                        return False\n",
    "        else:\n",
    "            return True\n",
    "        \n",
    "    def repetidos(self, lista):    \n",
    "        numero_repetido = 0\n",
    "        cuenta = 0\n",
    "        cuenta_local = 0\n",
    "        cada_numero = 0\n",
    "        while cada_numero < len(lista):\n",
    "            num_a_controlar = lista[cada_numero]        \n",
    "            for numero in lista:\n",
    "                if num_a_controlar == numero:\n",
    "                    cuenta_local+=1            \n",
    "                    if cuenta_local > cuenta:\n",
    "                        cuenta = cuenta_local\n",
    "                        numero_repetido = num_a_controlar\n",
    "            cuenta_local = 0\n",
    "            cada_numero+=1\n",
    "        return(numero_repetido, cuenta)\n",
    "    \n",
    "    def conversor_temperatura(self, temp, escala1, escala2):\n",
    "        temperatura = float(temp)\n",
    "        if escala1 == escala2:\n",
    "            temperatura = temperatura\n",
    "        elif escala1== \"C\" and escala2== \"F\":\n",
    "            temperatura = (temperatura * (9/5)) + 32\n",
    "        elif escala1== \"C\" and escala2== \"K\":\n",
    "            temperatura = temperatura + 273.15\n",
    "        elif escala1== \"F\" and escala2== \"C\":\n",
    "            temperatura = (temperatura - 32) * (5/9)\n",
    "        elif escala1== \"K\" and escala2== \"C\":\n",
    "            temperatura = temperatura - 273.15\n",
    "        elif escala1== \"K\" and escala2== \"F\":\n",
    "            temperatura = temperatura - 273.15\n",
    "            temperatura = (temperatura * (9/5)) + 32\n",
    "        elif escala1== \"F\" and escala2== \"K\":\n",
    "            temperatura = (temperatura - 32) * (5/9)\n",
    "            temperatura = temperatura + 273.15\n",
    "        else:\n",
    "            print(\"Ha ocurrido un error, por favor intente nuevamente o lea las instrucciones\")\n",
    "            return\n",
    "\n",
    "        return temperatura\n",
    "    \n",
    "    def funcion_factorial(self, numero):\n",
    "        if type(numero) != int or numero <= 0:\n",
    "            return \"Por favor introduzca un número entero y positivo\"  \n",
    "\n",
    "        if numero == 1:\n",
    "            return 1\n",
    "        \n",
    "        numero = numero * self.funcion_factorial(numero -1)\n",
    "        return numero"
   ]
  },
  {
   "cell_type": "code",
   "execution_count": 26,
   "metadata": {},
   "outputs": [],
   "source": [
    "prueba = Herramientas()"
   ]
  },
  {
   "attachments": {},
   "cell_type": "markdown",
   "metadata": {},
   "source": [
    "6) Probar las funciones incorporadas en la clase del punto 5"
   ]
  },
  {
   "cell_type": "code",
   "execution_count": 27,
   "metadata": {},
   "outputs": [
    {
     "data": {
      "text/plain": [
       "120"
      ]
     },
     "execution_count": 27,
     "metadata": {},
     "output_type": "execute_result"
    }
   ],
   "source": [
    "#prueba.conversor_temperatura(30, \"C\", \"C\")\n",
    "#prueba.repetidos([1,2,3,3,4,5])\n",
    "#prueba.numero_primo(5)\n",
    "prueba.funcion_factorial(5)"
   ]
  },
  {
   "attachments": {},
   "cell_type": "markdown",
   "metadata": {},
   "source": [
    "7) Es necesario que la clase creada en el punto 5 contenga una lista, sobre la cual se apliquen las funciones incorporadas"
   ]
  },
  {
   "cell_type": "code",
   "execution_count": 23,
   "metadata": {},
   "outputs": [],
   "source": [
    "class Herramientas:\n",
    "    def __init__(self, lista):\n",
    "        self.lista = lista\n",
    "\n",
    "    def primo_lista(self):\n",
    "        for numero in self.lista:\n",
    "            if self.__numero_primo(numero):\n",
    "                print(\"El número \", numero, \" es primo\")\n",
    "            else:\n",
    "                print(\"El número \", numero, \" no es primo\")\n",
    "\n",
    "    \n",
    "    def __numero_primo(self, numero):\n",
    "        divisor = numero -1\n",
    "        if divisor>0:\n",
    "            while divisor>0:\n",
    "                    if int(numero)%divisor != 0:\n",
    "                        divisor-=1\n",
    "                    elif divisor == 1:\n",
    "                        return True\n",
    "                    else:\n",
    "                        return False\n",
    "        else:\n",
    "            return True\n",
    "        \n",
    "    def repetidos(self):    \n",
    "        numero_repetido = 0\n",
    "        cuenta = 0\n",
    "        cuenta_local = 0\n",
    "        cada_numero = 0\n",
    "        while cada_numero < len(self.lista):\n",
    "            num_a_controlar = self.lista[cada_numero]        \n",
    "            for numero in self.lista:\n",
    "                if num_a_controlar == numero:\n",
    "                    cuenta_local+=1            \n",
    "                    if cuenta_local > cuenta:\n",
    "                        cuenta = cuenta_local\n",
    "                        numero_repetido = num_a_controlar\n",
    "            cuenta_local = 0\n",
    "            cada_numero+=1\n",
    "        return(numero_repetido, cuenta)\n",
    "    \n",
    "    def temperatura_lista(self, escala1, escala2):\n",
    "        for numero in self.lista:\n",
    "            print(numero, \" grados en la escala \", escala1, \" equivalen a \", self.__conversor_temperatura(numero, escala1, escala2), \" en la escala \", escala2)\n",
    "\n",
    "\n",
    "    def __conversor_temperatura(self, numero, escala1, escala2):\n",
    "        temperatura = float(numero)\n",
    "        if escala1 == escala2:\n",
    "            temperatura = temperatura\n",
    "        elif escala1== \"C\" and escala2== \"F\":\n",
    "            temperatura = (temperatura * (9/5)) + 32\n",
    "        elif escala1== \"C\" and escala2== \"K\":\n",
    "            temperatura = temperatura + 273.15\n",
    "        elif escala1== \"F\" and escala2== \"C\":\n",
    "            temperatura = (temperatura - 32) * (5/9)\n",
    "        elif escala1== \"K\" and escala2== \"C\":\n",
    "            temperatura = temperatura - 273.15\n",
    "        elif escala1== \"K\" and escala2== \"F\":\n",
    "            temperatura = temperatura - 273.15\n",
    "            temperatura = (temperatura * (9/5)) + 32\n",
    "        elif escala1== \"F\" and escala2== \"K\":\n",
    "            temperatura = (temperatura - 32) * (5/9)\n",
    "            temperatura = temperatura + 273.15\n",
    "        else:\n",
    "            print(\"Ha ocurrido un error, por favor intente nuevamente o lea las instrucciones\")\n",
    "            return\n",
    "\n",
    "        return temperatura\n",
    "    \n",
    "    def factorial_lista(self):\n",
    "        for numero in self.lista:\n",
    "            print(self.__funcion_factorial(numero))\n",
    "\n",
    "    def __funcion_factorial(self, numero):\n",
    "        if type(numero) != int or numero <= 0:\n",
    "            return \"Por favor introduzca un número entero y positivo\"  \n",
    "\n",
    "        if numero == 1:\n",
    "            return 1\n",
    "        \n",
    "        numero = numero * self.__funcion_factorial(numero -1)\n",
    "        return numero"
   ]
  },
  {
   "cell_type": "code",
   "execution_count": 24,
   "metadata": {},
   "outputs": [],
   "source": [
    "prueba = Herramientas([1,2,3,3,3,4,5])"
   ]
  },
  {
   "cell_type": "code",
   "execution_count": 25,
   "metadata": {},
   "outputs": [
    {
     "name": "stdout",
     "output_type": "stream",
     "text": [
      "1\n",
      "2\n",
      "6\n",
      "6\n",
      "6\n",
      "24\n",
      "120\n"
     ]
    }
   ],
   "source": [
    "#prueba.repetidos()\n",
    "#prueba.primo_lista()\n",
    "#prueba.temperatura_lista(\"C\", \"K\")\n",
    "prueba.factorial_lista()"
   ]
  },
  {
   "attachments": {},
   "cell_type": "markdown",
   "metadata": {},
   "source": [
    "8) Crear un archivo .py aparte y ubicar allí la clase generada en el punto anterior. Luego realizar la importación del módulo y probar alguna de sus funciones"
   ]
  },
  {
   "cell_type": "code",
   "execution_count": 31,
   "metadata": {},
   "outputs": [],
   "source": [
    "import herramientas_mias as hm\n",
    "\n",
    "prueba_import = hm.Herramientas([1,2,2,3,4,5,5])\n",
    "\n"
   ]
  },
  {
   "cell_type": "code",
   "execution_count": 32,
   "metadata": {},
   "outputs": [
    {
     "name": "stdout",
     "output_type": "stream",
     "text": [
      "1\n",
      "2\n",
      "2\n",
      "6\n",
      "24\n",
      "120\n",
      "120\n"
     ]
    }
   ],
   "source": [
    "prueba_import.factorial_lista()"
   ]
  }
 ],
 "metadata": {
  "interpreter": {
   "hash": "c85384e4cb51c8b72350f3a8712cc8351fdc3955e32a27f9b60c6242ab125f01"
  },
  "kernelspec": {
   "display_name": "Python 3 (ipykernel)",
   "language": "python",
   "name": "python3"
  },
  "language_info": {
   "codemirror_mode": {
    "name": "ipython",
    "version": 3
   },
   "file_extension": ".py",
   "mimetype": "text/x-python",
   "name": "python",
   "nbconvert_exporter": "python",
   "pygments_lexer": "ipython3",
   "version": "3.11.5"
  }
 },
 "nbformat": 4,
 "nbformat_minor": 4
}
