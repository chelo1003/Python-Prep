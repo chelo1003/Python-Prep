{
 "cells": [
  {
   "attachments": {},
   "cell_type": "markdown",
   "metadata": {},
   "source": [
    "## Manejo de errores"
   ]
  },
  {
   "attachments": {},
   "cell_type": "markdown",
   "metadata": {},
   "source": [
    "1) Con la clase creada en el módulo 7, tener en cuenta diferentes casos en que el código pudiera arrojar error. Por ejemplo, en la creación del objeto recibimos una lista de números enteros pero ¿qué pasa si se envía otro tipo de dato?"
   ]
  },
  {
   "cell_type": "code",
   "execution_count": 50,
   "metadata": {},
   "outputs": [],
   "source": [
    "class Herramientas:\n",
    "    def __init__(self, lista):\n",
    "        self.lista = lista\n",
    "\n",
    "    def primo_lista(self):\n",
    "        nueva_lista = [] \n",
    "        for numero in self.lista:\n",
    "            if self.__numero_primo(numero):\n",
    "                nueva_lista.append(True)\n",
    "            else:\n",
    "                nueva_lista.append(False)\n",
    "        return nueva_lista    \n",
    "\n",
    "    \n",
    "    def __numero_primo(self, numero):\n",
    "        divisor = numero -1\n",
    "        if divisor>0:\n",
    "            while divisor>0:\n",
    "                    if int(numero)%divisor != 0:\n",
    "                        divisor-=1\n",
    "                    elif divisor == 1:\n",
    "                        return True\n",
    "                    else:\n",
    "                        return False\n",
    "        else:\n",
    "            return True\n",
    "        \n",
    "    def repetidos(self):    \n",
    "        numero_repetido = 0\n",
    "        cuenta = 0\n",
    "        cuenta_local = 0\n",
    "        cada_numero = 0\n",
    "        while cada_numero < len(self.lista):\n",
    "            num_a_controlar = self.lista[cada_numero]        \n",
    "            for numero in self.lista:\n",
    "                if num_a_controlar == numero:\n",
    "                    cuenta_local+=1            \n",
    "                    if cuenta_local > cuenta:\n",
    "                        cuenta = cuenta_local\n",
    "                        numero_repetido = num_a_controlar\n",
    "            cuenta_local = 0\n",
    "            cada_numero+=1\n",
    "        return(numero_repetido, cuenta)\n",
    "    \n",
    "    def temperatura_lista(self):\n",
    "        lista_grados = []\n",
    "        for numero in self.lista:\n",
    "            lista_grados.append(self.__conversor_temperatura(numero, \"C\", \"F\"))\n",
    "        return lista_grados\n",
    "\n",
    "\n",
    "    def __conversor_temperatura(self, numero, escala1, escala2):\n",
    "        temperatura = float(numero)\n",
    "        if escala1 == escala2:\n",
    "            temperatura = temperatura\n",
    "        elif escala1== \"C\" and escala2== \"F\":\n",
    "            temperatura = (temperatura * (9/5)) + 32\n",
    "        elif escala1== \"C\" and escala2== \"K\":\n",
    "            temperatura = temperatura + 273.15\n",
    "        elif escala1== \"F\" and escala2== \"C\":\n",
    "            temperatura = (temperatura - 32) * (5/9)\n",
    "        elif escala1== \"K\" and escala2== \"C\":\n",
    "            temperatura = temperatura - 273.15\n",
    "        elif escala1== \"K\" and escala2== \"F\":\n",
    "            temperatura = temperatura - 273.15\n",
    "            temperatura = (temperatura * (9/5)) + 32\n",
    "        elif escala1== \"F\" and escala2== \"K\":\n",
    "            temperatura = (temperatura - 32) * (5/9)\n",
    "            temperatura = temperatura + 273.15\n",
    "        else:\n",
    "            print(\"Ha ocurrido un error, por favor intente nuevamente o lea las instrucciones\")\n",
    "            return\n",
    "\n",
    "        return temperatura\n",
    "    \n",
    "    def factorial_lista(self):\n",
    "        lista_factorial = []\n",
    "        for numero in self.lista:\n",
    "            lista_factorial.append(self.__funcion_factorial(numero))\n",
    "        return lista_factorial\n",
    "\n",
    "    def __funcion_factorial(self, numero):\n",
    "        if type(numero) != int or numero <= 0:\n",
    "            return \"Por favor introduzca un número entero y positivo\"  \n",
    "\n",
    "        if numero == 1:\n",
    "            return 1\n",
    "        \n",
    "        numero = numero * self.__funcion_factorial(numero -1)\n",
    "        return numero"
   ]
  },
  {
   "cell_type": "code",
   "execution_count": 5,
   "metadata": {},
   "outputs": [],
   "source": [
    "test = Herramientas([\"casa\", \"auto\"])"
   ]
  },
  {
   "cell_type": "code",
   "execution_count": 8,
   "metadata": {},
   "outputs": [
    {
     "ename": "TypeError",
     "evalue": "unsupported operand type(s) for -: 'str' and 'int'",
     "output_type": "error",
     "traceback": [
      "\u001b[1;31m---------------------------------------------------------------------------\u001b[0m",
      "\u001b[1;31mTypeError\u001b[0m                                 Traceback (most recent call last)",
      "\u001b[1;32mc:\\Users\\Usuario\\Desktop\\Varios yo\\SoyHenry\\Python-Prep\\M09_errorhandling\\Prep_Course_Homework_09.ipynb Cell 5\u001b[0m line \u001b[0;36m1\n\u001b[1;32m----> <a href='vscode-notebook-cell:/c%3A/Users/Usuario/Desktop/Varios%20yo/SoyHenry/Python-Prep/M09_errorhandling/Prep_Course_Homework_09.ipynb#X24sZmlsZQ%3D%3D?line=0'>1</a>\u001b[0m test\u001b[39m.\u001b[39;49mprimo_lista()\n",
      "\u001b[1;32mc:\\Users\\Usuario\\Desktop\\Varios yo\\SoyHenry\\Python-Prep\\M09_errorhandling\\Prep_Course_Homework_09.ipynb Cell 5\u001b[0m line \u001b[0;36m7\n\u001b[0;32m      <a href='vscode-notebook-cell:/c%3A/Users/Usuario/Desktop/Varios%20yo/SoyHenry/Python-Prep/M09_errorhandling/Prep_Course_Homework_09.ipynb#X24sZmlsZQ%3D%3D?line=4'>5</a>\u001b[0m \u001b[39mdef\u001b[39;00m \u001b[39mprimo_lista\u001b[39m(\u001b[39mself\u001b[39m):\n\u001b[0;32m      <a href='vscode-notebook-cell:/c%3A/Users/Usuario/Desktop/Varios%20yo/SoyHenry/Python-Prep/M09_errorhandling/Prep_Course_Homework_09.ipynb#X24sZmlsZQ%3D%3D?line=5'>6</a>\u001b[0m     \u001b[39mfor\u001b[39;00m numero \u001b[39min\u001b[39;00m \u001b[39mself\u001b[39m\u001b[39m.\u001b[39mlista:\n\u001b[1;32m----> <a href='vscode-notebook-cell:/c%3A/Users/Usuario/Desktop/Varios%20yo/SoyHenry/Python-Prep/M09_errorhandling/Prep_Course_Homework_09.ipynb#X24sZmlsZQ%3D%3D?line=6'>7</a>\u001b[0m         \u001b[39mif\u001b[39;00m \u001b[39mself\u001b[39;49m\u001b[39m.\u001b[39;49m__numero_primo(numero):\n\u001b[0;32m      <a href='vscode-notebook-cell:/c%3A/Users/Usuario/Desktop/Varios%20yo/SoyHenry/Python-Prep/M09_errorhandling/Prep_Course_Homework_09.ipynb#X24sZmlsZQ%3D%3D?line=7'>8</a>\u001b[0m             \u001b[39mprint\u001b[39m(\u001b[39m\"\u001b[39m\u001b[39mEl número \u001b[39m\u001b[39m\"\u001b[39m, numero, \u001b[39m\"\u001b[39m\u001b[39m es primo\u001b[39m\u001b[39m\"\u001b[39m)\n\u001b[0;32m      <a href='vscode-notebook-cell:/c%3A/Users/Usuario/Desktop/Varios%20yo/SoyHenry/Python-Prep/M09_errorhandling/Prep_Course_Homework_09.ipynb#X24sZmlsZQ%3D%3D?line=8'>9</a>\u001b[0m         \u001b[39melse\u001b[39;00m:\n",
      "\u001b[1;32mc:\\Users\\Usuario\\Desktop\\Varios yo\\SoyHenry\\Python-Prep\\M09_errorhandling\\Prep_Course_Homework_09.ipynb Cell 5\u001b[0m line \u001b[0;36m1\n\u001b[0;32m     <a href='vscode-notebook-cell:/c%3A/Users/Usuario/Desktop/Varios%20yo/SoyHenry/Python-Prep/M09_errorhandling/Prep_Course_Homework_09.ipynb#X24sZmlsZQ%3D%3D?line=12'>13</a>\u001b[0m \u001b[39mdef\u001b[39;00m \u001b[39m__numero_primo\u001b[39m(\u001b[39mself\u001b[39m, numero):\n\u001b[1;32m---> <a href='vscode-notebook-cell:/c%3A/Users/Usuario/Desktop/Varios%20yo/SoyHenry/Python-Prep/M09_errorhandling/Prep_Course_Homework_09.ipynb#X24sZmlsZQ%3D%3D?line=13'>14</a>\u001b[0m     divisor \u001b[39m=\u001b[39m numero \u001b[39m-\u001b[39;49m\u001b[39m1\u001b[39;49m\n\u001b[0;32m     <a href='vscode-notebook-cell:/c%3A/Users/Usuario/Desktop/Varios%20yo/SoyHenry/Python-Prep/M09_errorhandling/Prep_Course_Homework_09.ipynb#X24sZmlsZQ%3D%3D?line=14'>15</a>\u001b[0m     \u001b[39mif\u001b[39;00m divisor\u001b[39m>\u001b[39m\u001b[39m0\u001b[39m:\n\u001b[0;32m     <a href='vscode-notebook-cell:/c%3A/Users/Usuario/Desktop/Varios%20yo/SoyHenry/Python-Prep/M09_errorhandling/Prep_Course_Homework_09.ipynb#X24sZmlsZQ%3D%3D?line=15'>16</a>\u001b[0m         \u001b[39mwhile\u001b[39;00m divisor\u001b[39m>\u001b[39m\u001b[39m0\u001b[39m:\n",
      "\u001b[1;31mTypeError\u001b[0m: unsupported operand type(s) for -: 'str' and 'int'"
     ]
    }
   ],
   "source": [
    "test.primo_lista()"
   ]
  },
  {
   "cell_type": "code",
   "execution_count": null,
   "metadata": {},
   "outputs": [],
   "source": [
    "#Si se envía un tipo de dato incorrecto, algunas de las funciones pueden arrojar un error."
   ]
  },
  {
   "attachments": {},
   "cell_type": "markdown",
   "metadata": {},
   "source": [
    "2) En la función que hace la conversión de grados, validar que los parámetros enviados sean los esperados, de no serlo, informar cuáles son los valores esperados."
   ]
  },
  {
   "cell_type": "code",
   "execution_count": 36,
   "metadata": {},
   "outputs": [],
   "source": [
    "def conversor_temperatura(numero, escala1, escala2):\n",
    "    assert type(numero) == (int or float), \"La temperatura debe ingresarse en números\"\n",
    "    temperatura = float(numero)\n",
    "    if escala1 == escala2:\n",
    "        temperatura = temperatura\n",
    "    elif escala1== \"C\" and escala2== \"F\":\n",
    "        temperatura = (temperatura * (9/5)) + 32\n",
    "    elif escala1== \"C\" and escala2== \"K\":\n",
    "        temperatura = temperatura + 273.15\n",
    "    elif escala1== \"F\" and escala2== \"C\":\n",
    "        temperatura = (temperatura - 32) * (5/9)\n",
    "    elif escala1== \"K\" and escala2== \"C\":\n",
    "        temperatura = temperatura - 273.15\n",
    "    elif escala1== \"K\" and escala2== \"F\":\n",
    "        temperatura = temperatura - 273.15\n",
    "        temperatura = (temperatura * (9/5)) + 32\n",
    "    elif escala1== \"F\" and escala2== \"K\":\n",
    "        temperatura = (temperatura - 32) * (5/9)\n",
    "        temperatura = temperatura + 273.15\n",
    "    else:\n",
    "        print(\"Ha ocurrido un error, por favor intente nuevamente o lea las instrucciones\")\n",
    "        return\n",
    "\n",
    "    return temperatura"
   ]
  },
  {
   "cell_type": "code",
   "execution_count": 41,
   "metadata": {},
   "outputs": [
    {
     "name": "stdout",
     "output_type": "stream",
     "text": [
      "33.8\n",
      "35.6\n",
      "37.4\n",
      "39.2\n",
      "41.0\n"
     ]
    }
   ],
   "source": [
    "print(conversor_temperatura(1, \"C\", \"F\"))\n",
    "print(conversor_temperatura(2, \"C\", \"F\"))\n",
    "print(conversor_temperatura(3, \"C\", \"F\"))\n",
    "print(conversor_temperatura(4, \"C\", \"F\"))\n",
    "print(conversor_temperatura(5, \"C\", \"F\"))"
   ]
  },
  {
   "attachments": {},
   "cell_type": "markdown",
   "metadata": {},
   "source": [
    "3) Importar el modulo \"unittest\" y crear los siguientes casos de pruebas sobre la clase utilizada en el punto 2<br>\n",
    "Creacion del objeto incorrecta<br>\n",
    "Creacion correcta del objeto<br>\n",
    "Metodo valor_modal()<br>\n",
    "\n",
    "Se puede usar \"raise ValueError()\" en la creación de la clase para verificar el error. Investigar sobre esta funcionalidad."
   ]
  },
  {
   "cell_type": "code",
   "execution_count": null,
   "metadata": {},
   "outputs": [],
   "source": []
  },
  {
   "attachments": {},
   "cell_type": "markdown",
   "metadata": {},
   "source": [
    "4) Probar una creación incorrecta y visualizar la salida del \"raise\""
   ]
  },
  {
   "cell_type": "code",
   "execution_count": null,
   "metadata": {},
   "outputs": [],
   "source": []
  },
  {
   "attachments": {},
   "cell_type": "markdown",
   "metadata": {},
   "source": [
    "6) Agregar casos de pruebas para el método verifica_primos() realizando el cambio en la clase, para que devuelva una lista de True o False en función de que el elemento en la posisicón sea o no primo"
   ]
  },
  {
   "cell_type": "code",
   "execution_count": 37,
   "metadata": {},
   "outputs": [],
   "source": [
    "import unittest\n",
    "class ProbandoMiClase2(unittest.TestCase):\n",
    "\n",
    "    def test_verifica_primos1(self):\n",
    "        lis = [1,2,3,4,5]\n",
    "        h1 = Herramientas(lis)\n",
    "        primos = h1.primo_lista()\n",
    "        primos_esperado = [True, True, False, False, True]\n",
    "        self.assertEqual(primos, primos_esperado)"
   ]
  },
  {
   "cell_type": "code",
   "execution_count": 38,
   "metadata": {},
   "outputs": [
    {
     "name": "stderr",
     "output_type": "stream",
     "text": [
      "test_verifica_primos1 (__main__.ProbandoMiClase2.test_verifica_primos1) ... ok\n",
      "\n",
      "----------------------------------------------------------------------\n",
      "Ran 1 test in 0.003s\n",
      "\n",
      "OK\n"
     ]
    },
    {
     "data": {
      "text/plain": [
       "<unittest.main.TestProgram at 0x10eef25c8d0>"
      ]
     },
     "execution_count": 38,
     "metadata": {},
     "output_type": "execute_result"
    }
   ],
   "source": [
    "unittest.main(argv=[\"\"], verbosity=2, exit=False)\n"
   ]
  },
  {
   "attachments": {},
   "cell_type": "markdown",
   "metadata": {},
   "source": [
    "7) Agregar casos de pruebas para el método conversion_grados()"
   ]
  },
  {
   "cell_type": "code",
   "execution_count": 46,
   "metadata": {},
   "outputs": [],
   "source": [
    "import unittest\n",
    "class ProbandoMiClase3(unittest.TestCase):\n",
    "\n",
    "    def test_conversion_grados(self):\n",
    "        lis = [1,2,3,4,5]\n",
    "        h1 = Herramientas(lis)\n",
    "        grados = h1.temperatura_lista()\n",
    "        grados_esperado = [33.8, 35.6, 37.4, 39.2, 41]\n",
    "        self.assertEqual(grados, grados_esperado)"
   ]
  },
  {
   "cell_type": "code",
   "execution_count": 49,
   "metadata": {},
   "outputs": [
    {
     "name": "stderr",
     "output_type": "stream",
     "text": [
      "test_verifica_primos1 (__main__.ProbandoMiClase2.test_verifica_primos1) ... ok\n",
      "test_conversion_grados (__main__.ProbandoMiClase3.test_conversion_grados) ... ok\n",
      "\n",
      "----------------------------------------------------------------------\n",
      "Ran 2 tests in 0.007s\n",
      "\n",
      "OK\n"
     ]
    },
    {
     "data": {
      "text/plain": [
       "<unittest.main.TestProgram at 0x10eee7a3390>"
      ]
     },
     "execution_count": 49,
     "metadata": {},
     "output_type": "execute_result"
    }
   ],
   "source": [
    "unittest.main(argv=[\"\"], verbosity=2, exit=False)"
   ]
  },
  {
   "attachments": {},
   "cell_type": "markdown",
   "metadata": {},
   "source": [
    "8) Agregar casos de pruebas para el método factorial()"
   ]
  },
  {
   "cell_type": "code",
   "execution_count": 51,
   "metadata": {},
   "outputs": [],
   "source": [
    "import unittest\n",
    "class ProbandoMiClase4(unittest.TestCase):\n",
    "\n",
    "    def test_factorial(self):\n",
    "        lis = [1,2,3,4,5]\n",
    "        h1 = Herramientas(lis)\n",
    "        factorial = h1.factorial_lista()\n",
    "        factorial_esperado = [1, 2, 6, 24, 120]\n",
    "        self.assertEqual(factorial, factorial_esperado)"
   ]
  },
  {
   "cell_type": "code",
   "execution_count": 52,
   "metadata": {},
   "outputs": [
    {
     "name": "stderr",
     "output_type": "stream",
     "text": [
      "test_verifica_primos1 (__main__.ProbandoMiClase2.test_verifica_primos1) ... ok\n",
      "test_conversion_grados (__main__.ProbandoMiClase3.test_conversion_grados) ... ok\n",
      "test_factorial (__main__.ProbandoMiClase4.test_factorial) ... ok\n",
      "\n",
      "----------------------------------------------------------------------\n",
      "Ran 3 tests in 0.013s\n",
      "\n",
      "OK\n"
     ]
    },
    {
     "data": {
      "text/plain": [
       "<unittest.main.TestProgram at 0x10eeebc3a10>"
      ]
     },
     "execution_count": 52,
     "metadata": {},
     "output_type": "execute_result"
    }
   ],
   "source": [
    "unittest.main(argv=[\"\"], verbosity=2, exit=False)"
   ]
  }
 ],
 "metadata": {
  "interpreter": {
   "hash": "c85384e4cb51c8b72350f3a8712cc8351fdc3955e32a27f9b60c6242ab125f01"
  },
  "kernelspec": {
   "display_name": "Python 3 (ipykernel)",
   "language": "python",
   "name": "python3"
  },
  "language_info": {
   "codemirror_mode": {
    "name": "ipython",
    "version": 3
   },
   "file_extension": ".py",
   "mimetype": "text/x-python",
   "name": "python",
   "nbconvert_exporter": "python",
   "pygments_lexer": "ipython3",
   "version": "3.11.5"
  }
 },
 "nbformat": 4,
 "nbformat_minor": 4
}
