{
 "cells": [
  {
   "attachments": {},
   "cell_type": "markdown",
   "metadata": {},
   "source": [
    "## Funciones"
   ]
  },
  {
   "attachments": {},
   "cell_type": "markdown",
   "metadata": {},
   "source": [
    "1) Crear una función que reciba un número como parámetro y devuelva True si es primo y False si no lo es"
   ]
  },
  {
   "cell_type": "code",
   "execution_count": 23,
   "metadata": {},
   "outputs": [],
   "source": [
    "def numero_primo(numero):\n",
    "    divisor = numero -1\n",
    "    if divisor>0:\n",
    "        while divisor>0:\n",
    "                if int(numero)%divisor != 0:\n",
    "                    divisor-=1\n",
    "                elif divisor == 1:\n",
    "                    return True\n",
    "                else:\n",
    "                    return False\n",
    "    else:\n",
    "         return True\n",
    "    "
   ]
  },
  {
   "attachments": {},
   "cell_type": "markdown",
   "metadata": {},
   "source": [
    "2) Utilizando la función del punto 1, realizar otra función que reciba de parámetro una lista de números y devuelva sólo aquellos que son primos en otra lista"
   ]
  },
  {
   "cell_type": "code",
   "execution_count": 28,
   "metadata": {},
   "outputs": [],
   "source": [
    "def numero_primo_lista(lista):\n",
    "    nueva_lista=[]\n",
    "    for numero in lista:\n",
    "        divisor = numero -1\n",
    "        if divisor>0:\n",
    "            while divisor>0:\n",
    "                    if int(numero)%divisor != 0:\n",
    "                        divisor-=1\n",
    "                    elif divisor == 1:\n",
    "                        nueva_lista.append(numero)\n",
    "                        break\n",
    "                    else:\n",
    "                        break\n",
    "    \n",
    "    return nueva_lista\n",
    "                "
   ]
  },
  {
   "attachments": {},
   "cell_type": "markdown",
   "metadata": {},
   "source": [
    "3) Crear una función que al recibir una lista de números, devuelva el que más se repite y cuántas veces lo hace. Si hay más de un \"más repetido\", que devuelva cualquiera"
   ]
  },
  {
   "cell_type": "code",
   "execution_count": 75,
   "metadata": {},
   "outputs": [],
   "source": [
    "def repetidos(lista):    \n",
    "    numero_repetido = 0\n",
    "    cuenta = 0\n",
    "    cuenta_local = 0\n",
    "    cada_numero = 0\n",
    "    while cada_numero < len(lista):\n",
    "        num_a_controlar = lista[cada_numero]        \n",
    "        for numero in lista:\n",
    "            if num_a_controlar == numero:\n",
    "                cuenta_local+=1            \n",
    "                if cuenta_local > cuenta:\n",
    "                    cuenta = cuenta_local\n",
    "                    numero_repetido = num_a_controlar\n",
    "        cuenta_local = 0\n",
    "        cada_numero+=1\n",
    "    return(numero_repetido, cuenta)\n",
    "    \n",
    "\n",
    "\n",
    "\n"
   ]
  },
  {
   "attachments": {},
   "cell_type": "markdown",
   "metadata": {},
   "source": [
    "4) Crear una función que convierta entre grados Celsius, Farenheit y Kelvin<br>\n",
    "Fórmula 1\t: (°C × 9/5) + 32 = °F<br>\n",
    "Fórmula 2\t: °C + 273.15 = °K<br>\n",
    "Debe recibir 3 parámetros: el valor, la medida de orígen y la medida de destino\n"
   ]
  },
  {
   "cell_type": "code",
   "execution_count": 89,
   "metadata": {},
   "outputs": [],
   "source": [
    "def conversor_temperatura(temp, escala1, escala2):\n",
    "    \"\"\" Se debe ingresar la temperatura en números enteros o decimales separados por punto,\n",
    "    y las escalas entre comillas según la siguiente nomenclatura: \n",
    "    Celsius = \"C\"\n",
    "    Farenheit = \"F\" \n",
    "    Kelvin = \"K\" \"\"\"\n",
    "    \n",
    "    temperatura = float(temp)\n",
    "    if escala1 == escala2:\n",
    "        temperatura = temperatura\n",
    "    elif escala1== \"C\" and escala2== \"F\":\n",
    "        temperatura = (temperatura * (9/5)) + 32\n",
    "    elif escala1== \"C\" and escala2== \"K\":\n",
    "        temperatura = temperatura + 273.15\n",
    "    elif escala1== \"F\" and escala2== \"C\":\n",
    "        temperatura = (temperatura - 32) * (5/9)\n",
    "    elif escala1== \"K\" and escala2== \"C\":\n",
    "        temperatura = temperatura - 273.15\n",
    "    elif escala1== \"K\" and escala2== \"F\":\n",
    "        temperatura = temperatura - 273.15\n",
    "        temperatura = (temperatura * (9/5)) + 32\n",
    "    elif escala1== \"F\" and escala2== \"K\":\n",
    "        temperatura = (temperatura - 32) * (5/9)\n",
    "        temperatura = temperatura + 273.15\n",
    "    else:\n",
    "        print(\"Ha ocurrido un error, por favor intente nuevamente o lea las instrucciones\")\n",
    "        return\n",
    "\n",
    "    return temperatura"
   ]
  },
  {
   "attachments": {},
   "cell_type": "markdown",
   "metadata": {},
   "source": [
    "5) Iterando una lista con los tres valores posibles de temperatura que recibe la función del punto 5, hacer un print para cada combinación de los mismos:"
   ]
  },
  {
   "cell_type": "code",
   "execution_count": 94,
   "metadata": {},
   "outputs": [
    {
     "name": "stdout",
     "output_type": "stream",
     "text": [
      "A cada grado C corresponden 1.0 C\n",
      "A cada grado C corresponden 274.15 K\n",
      "A cada grado C corresponden 33.8 F\n",
      "A cada grado K corresponden -272.15 C\n",
      "A cada grado K corresponden 1.0 K\n",
      "A cada grado K corresponden -457.86999999999995 F\n",
      "A cada grado F corresponden -17.22222222222222 C\n",
      "A cada grado F corresponden 255.92777777777775 K\n",
      "A cada grado F corresponden 1.0 F\n"
     ]
    }
   ],
   "source": [
    "lista_temp = [\"C\", \"K\", \"F\"]\n",
    "\n",
    "for temperatura_origen in lista_temp:\n",
    "    for temperatura_destino in lista_temp:\n",
    "        print(\"A cada grado \" + temperatura_origen + \" corresponden \" + str(conversor_temperatura(1, temperatura_origen, temperatura_destino)) + \" \" + temperatura_destino)"
   ]
  },
  {
   "attachments": {},
   "cell_type": "markdown",
   "metadata": {},
   "source": [
    "6) Armar una función que devuelva el factorial de un número. Tener en cuenta que el usuario puede equivocarse y enviar de parámetro un número no entero o negativo"
   ]
  },
  {
   "cell_type": "code",
   "execution_count": 138,
   "metadata": {},
   "outputs": [],
   "source": [
    "def funcion_factorial(numero):\n",
    "    if type(numero) != int or numero <= 0:\n",
    "        return \"Por favor introduzca un número entero y positivo\"  \n",
    "\n",
    "    if numero == 1:\n",
    "        return 1\n",
    "    \n",
    "    numero = numero * funcion_factorial(numero -1)\n",
    "    return numero\n",
    "\n",
    "\n",
    "\n",
    "\n"
   ]
  },
  {
   "cell_type": "code",
   "execution_count": 142,
   "metadata": {},
   "outputs": [
    {
     "data": {
      "text/plain": [
       "120"
      ]
     },
     "execution_count": 142,
     "metadata": {},
     "output_type": "execute_result"
    }
   ],
   "source": [
    "funcion_factorial(5)"
   ]
  }
 ],
 "metadata": {
  "interpreter": {
   "hash": "c85384e4cb51c8b72350f3a8712cc8351fdc3955e32a27f9b60c6242ab125f01"
  },
  "kernelspec": {
   "display_name": "Python 3 (ipykernel)",
   "language": "python",
   "name": "python3"
  },
  "language_info": {
   "codemirror_mode": {
    "name": "ipython",
    "version": 3
   },
   "file_extension": ".py",
   "mimetype": "text/x-python",
   "name": "python",
   "nbconvert_exporter": "python",
   "pygments_lexer": "ipython3",
   "version": "3.11.5"
  }
 },
 "nbformat": 4,
 "nbformat_minor": 4
}
