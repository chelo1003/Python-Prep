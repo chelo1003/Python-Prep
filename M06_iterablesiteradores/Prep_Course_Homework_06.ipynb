{
 "cells": [
  {
   "attachments": {},
   "cell_type": "markdown",
   "metadata": {},
   "source": [
    "## Iteradores e iterables"
   ]
  },
  {
   "attachments": {},
   "cell_type": "markdown",
   "metadata": {},
   "source": [
    "1) A partir de una lista vacía, utilizar un ciclo while para cargar allí números negativos del -15 al -1"
   ]
  },
  {
   "cell_type": "code",
   "execution_count": 1,
   "metadata": {},
   "outputs": [
    {
     "name": "stdout",
     "output_type": "stream",
     "text": [
      "[-15, -14, -13, -12, -11, -10, -9, -8, -7, -6, -5, -4, -3, -2, -1]\n"
     ]
    }
   ],
   "source": [
    "lista_vacia = []\n",
    "x = -15\n",
    "\n",
    "while x<0:\n",
    "    lista_vacia.append(x)\n",
    "    x+=1\n",
    "\n",
    "print(lista_vacia)\n"
   ]
  },
  {
   "attachments": {},
   "cell_type": "markdown",
   "metadata": {},
   "source": [
    "2) ¿Con un ciclo while sería posible recorrer la lista para imprimir sólo los números pares?"
   ]
  },
  {
   "cell_type": "code",
   "execution_count": 3,
   "metadata": {},
   "outputs": [
    {
     "name": "stdout",
     "output_type": "stream",
     "text": [
      "-14\n",
      "-12\n",
      "-10\n",
      "-8\n",
      "-6\n",
      "-4\n",
      "-2\n"
     ]
    }
   ],
   "source": [
    "x = 0\n",
    "while x<15:\n",
    "    if lista_vacia[x]%2 == 0:\n",
    "        print(lista_vacia[x])\n",
    "        x+=1\n",
    "    else:\n",
    "        x+=1\n"
   ]
  },
  {
   "attachments": {},
   "cell_type": "markdown",
   "metadata": {},
   "source": [
    "3) Resolver el punto anterior sin utilizar un ciclo while"
   ]
  },
  {
   "cell_type": "code",
   "execution_count": 5,
   "metadata": {},
   "outputs": [
    {
     "name": "stdout",
     "output_type": "stream",
     "text": [
      "-14\n",
      "-12\n",
      "-10\n",
      "-8\n",
      "-6\n",
      "-4\n",
      "-2\n"
     ]
    }
   ],
   "source": [
    "for numero in lista_vacia:\n",
    "    if numero%2 == 0:\n",
    "        print(numero)"
   ]
  },
  {
   "attachments": {},
   "cell_type": "markdown",
   "metadata": {},
   "source": [
    "4) Utilizar el iterable para recorrer sólo los primeros 3 elementos"
   ]
  },
  {
   "cell_type": "code",
   "execution_count": 6,
   "metadata": {},
   "outputs": [
    {
     "name": "stdout",
     "output_type": "stream",
     "text": [
      "-15\n",
      "-14\n",
      "-13\n"
     ]
    }
   ],
   "source": [
    "iterador = iter(lista_vacia)\n",
    "print(next(iterador))\n",
    "print(next(iterador))\n",
    "print(next(iterador))\n"
   ]
  },
  {
   "attachments": {},
   "cell_type": "markdown",
   "metadata": {},
   "source": [
    "5) Utilizar la función **enumerate** para obtener dentro del iterable, tambien el índice al que corresponde el elemento"
   ]
  },
  {
   "cell_type": "code",
   "execution_count": 7,
   "metadata": {},
   "outputs": [
    {
     "name": "stdout",
     "output_type": "stream",
     "text": [
      "(0, -15)\n",
      "(1, -14)\n",
      "(2, -13)\n",
      "(3, -12)\n",
      "(4, -11)\n",
      "(5, -10)\n",
      "(6, -9)\n",
      "(7, -8)\n",
      "(8, -7)\n",
      "(9, -6)\n",
      "(10, -5)\n",
      "(11, -4)\n",
      "(12, -3)\n",
      "(13, -2)\n",
      "(14, -1)\n"
     ]
    }
   ],
   "source": [
    "for numero in enumerate(lista_vacia):\n",
    "    print(numero)"
   ]
  },
  {
   "attachments": {},
   "cell_type": "markdown",
   "metadata": {},
   "source": [
    "6) Dada la siguiente lista de números enteros entre 1 y 20, crear un ciclo donde se completen los valores faltantes: lista = [1,2,5,7,8,10,13,14,15,17,20]"
   ]
  },
  {
   "cell_type": "code",
   "execution_count": 28,
   "metadata": {},
   "outputs": [
    {
     "name": "stdout",
     "output_type": "stream",
     "text": [
      "[1, 2, 5, 7, 8, 10, 13, 14, 15, 17, 20]\n",
      "[1, 2, 3, 4, 5, 6, 7, 8, 9, 10, 11, 12, 13, 14, 15, 16, 17, 18, 19, 20, 20, 21, 22, 23, 24]\n"
     ]
    }
   ],
   "source": [
    "lista_incompleta = [1,2,5,7,8,10,13,14,15,17,20]\n",
    "print(lista_incompleta)\n",
    "\n",
    "x = 0\n",
    "\n",
    "while x<25:\n",
    "    if x >= len(lista_incompleta):\n",
    "        lista_incompleta.append(x)\n",
    "        x+=1\n",
    "    else:\n",
    "        y = lista_incompleta[x]\n",
    "        x+=1\n",
    "\n",
    "        if x != y:\n",
    "            lista_incompleta.insert((x-1), x)\n",
    "\n",
    "print(lista_incompleta)\n",
    "\n",
    "\n"
   ]
  },
  {
   "attachments": {},
   "cell_type": "markdown",
   "metadata": {},
   "source": [
    "7) La sucesión de Fibonacci es un listado de números que sigue la fórmula: <br>\n",
    "n<sub>0</sub> = 0<br>\n",
    "n<sub>1</sub> = 1<br>\n",
    "n<sub>i</sub> = n<sub>i-1</sub> + n<sub>i-2</sub><br>\n",
    "Crear una lista con los primeros treinta números de la sucesión.<br>"
   ]
  },
  {
   "cell_type": "code",
   "execution_count": 1,
   "metadata": {},
   "outputs": [
    {
     "name": "stdout",
     "output_type": "stream",
     "text": [
      "[0, 1, 1, 2, 3, 5, 8, 13, 21, 34, 55, 89, 144, 233, 377, 610, 987, 1597, 2584, 4181, 6765, 10946, 17711, 28657, 46368, 75025, 121393, 196418, 317811, 514229]\n"
     ]
    }
   ],
   "source": [
    "serie = [0, 1]\n",
    "\n",
    "x=2\n",
    "\n",
    "while x<30:\n",
    "    numero1 = serie[x-2]\n",
    "    numero2 = serie[x-1]\n",
    "    serie.append((numero1+numero2))\n",
    "    x+=1\n",
    "\n",
    "print(serie)\n",
    "\n",
    "\n"
   ]
  },
  {
   "attachments": {},
   "cell_type": "markdown",
   "metadata": {},
   "source": [
    "8) Realizar la suma de todos elementos de la lista del punto anterior"
   ]
  },
  {
   "cell_type": "code",
   "execution_count": 2,
   "metadata": {},
   "outputs": [
    {
     "name": "stdout",
     "output_type": "stream",
     "text": [
      "1346268\n"
     ]
    }
   ],
   "source": [
    "print(sum(serie))"
   ]
  },
  {
   "attachments": {},
   "cell_type": "markdown",
   "metadata": {},
   "source": [
    "9) La proporción aurea se expresa con una proporción matemática que nace el número irracional Phi= 1,618… que los griegos llamaron número áureo. El cuál se puede aproximar con la sucesión de Fibonacci. Con la lista del ejercicio anterior, imprimir el cociente de los últimos 5 pares de dos números contiguos:<br>\n",
    "Donde i es la cantidad total de elementos<br>\n",
    "n<sub>i-1</sub> / n<sub>i</sub><br>\n",
    "n<sub>i-2</sub> / n<sub>i-1</sub><br>\n",
    "n<sub>i-3</sub> / n<sub>i-2</sub><br>\n",
    "n<sub>i-4</sub> / n<sub>i-3</sub><br>\n",
    "n<sub>i-5</sub> / n<sub>i-4</sub><br>\n",
    " "
   ]
  },
  {
   "cell_type": "code",
   "execution_count": 6,
   "metadata": {},
   "outputs": [
    {
     "name": "stdout",
     "output_type": "stream",
     "text": [
      "1.6180339887543225\n",
      "1.618033988738303\n",
      "1.6180339887802426\n",
      "1.6180339886704431\n",
      "1.618033988957902\n"
     ]
    }
   ],
   "source": [
    "#print(len(serie))\n",
    "\n",
    "x = len(serie) - 1\n",
    "\n",
    "while x >= 25:\n",
    "    cociente = serie[x]/serie[x-1]\n",
    "    print(cociente)\n",
    "    x-=1\n"
   ]
  },
  {
   "attachments": {},
   "cell_type": "markdown",
   "metadata": {},
   "source": [
    "10) A partir de la variable cadena ya dada, mostrar en qué posiciones aparece la letra \"n\"<br>\n",
    "cadena = 'Hola Mundo. Esto es una practica del lenguaje de programación Python'"
   ]
  },
  {
   "cell_type": "code",
   "execution_count": 12,
   "metadata": {},
   "outputs": [
    {
     "name": "stdout",
     "output_type": "stream",
     "text": [
      "7\n",
      "21\n",
      "39\n",
      "60\n",
      "67\n"
     ]
    }
   ],
   "source": [
    "cadena = \"Hola Mundo. Esto es una practica del lenguaje de programación Python\"\n",
    "\n",
    "for indice, letra in enumerate(cadena):\n",
    "    if letra == \"n\":\n",
    "        print(indice)"
   ]
  },
  {
   "attachments": {},
   "cell_type": "markdown",
   "metadata": {},
   "source": [
    "11) Crear un diccionario e imprimir sus claves utilizando un iterador"
   ]
  },
  {
   "cell_type": "code",
   "execution_count": 18,
   "metadata": {},
   "outputs": [
    {
     "name": "stdout",
     "output_type": "stream",
     "text": [
      "nombre\n",
      "edad\n",
      "DNI\n"
     ]
    }
   ],
   "source": [
    "diccionario = {\"nombre\": \"marcelo\", \"edad\": 41, \"DNI\": 29525631}\n",
    "\n",
    "for clave in diccionario:\n",
    "    print(clave)"
   ]
  },
  {
   "attachments": {},
   "cell_type": "markdown",
   "metadata": {},
   "source": [
    "12) Convertir en una lista la variable \"cadena\" del punto 10 y luego recorrerla con un iterador "
   ]
  },
  {
   "cell_type": "code",
   "execution_count": 22,
   "metadata": {},
   "outputs": [
    {
     "name": "stdout",
     "output_type": "stream",
     "text": [
      "H\n",
      "o\n",
      "l\n",
      "a\n",
      " \n",
      "M\n",
      "u\n",
      "n\n",
      "d\n",
      "o\n",
      ".\n",
      " \n",
      "E\n",
      "s\n",
      "t\n",
      "o\n",
      " \n",
      "e\n",
      "s\n",
      " \n",
      "u\n",
      "n\n",
      "a\n",
      " \n",
      "p\n",
      "r\n",
      "a\n",
      "c\n",
      "t\n",
      "i\n",
      "c\n",
      "a\n",
      " \n",
      "d\n",
      "e\n",
      "l\n",
      " \n",
      "l\n",
      "e\n",
      "n\n",
      "g\n",
      "u\n",
      "a\n",
      "j\n",
      "e\n",
      " \n",
      "d\n",
      "e\n",
      " \n",
      "p\n",
      "r\n",
      "o\n",
      "g\n",
      "r\n",
      "a\n",
      "m\n",
      "a\n",
      "c\n",
      "i\n",
      "ó\n",
      "n\n",
      " \n",
      "P\n",
      "y\n",
      "t\n",
      "h\n",
      "o\n",
      "n\n"
     ]
    }
   ],
   "source": [
    "#lista = list(cadena)\n",
    "#print(lista)\n",
    "\n",
    "iterador_lista = iter(lista)\n",
    "\n",
    "longitud = len(lista)\n",
    "\n",
    "for letra in range(0, longitud):\n",
    "    print(next(iterador_lista))"
   ]
  },
  {
   "attachments": {},
   "cell_type": "markdown",
   "metadata": {},
   "source": [
    "13) Crear dos listas y unirlas en una tupla utilizando la función zip"
   ]
  },
  {
   "cell_type": "code",
   "execution_count": 24,
   "metadata": {},
   "outputs": [
    {
     "name": "stdout",
     "output_type": "stream",
     "text": [
      "(1, 'a')\n",
      "(2, 'b')\n",
      "(3, 'c')\n",
      "(4, 'd')\n",
      "(5, 'e')\n",
      "(6, 'f')\n"
     ]
    }
   ],
   "source": [
    "lista1 = [1,2,3,4,5,6,7,8]\n",
    "lista2 = [\"a\", \"b\", \"c\", \"d\", \"e\", \"f\"]\n",
    "\n",
    "union = zip(lista1, lista2)\n",
    "\n",
    "for x in union:\n",
    "    print(x)"
   ]
  },
  {
   "attachments": {},
   "cell_type": "markdown",
   "metadata": {},
   "source": [
    "14) A partir de la siguiente lista de números, crear una nueva sólo si el número es divisible por 7<br>\n",
    "lis = [18,21,29,32,35,42,56,60,63,71,84,90,91,100]"
   ]
  },
  {
   "cell_type": "code",
   "execution_count": 26,
   "metadata": {},
   "outputs": [
    {
     "name": "stdout",
     "output_type": "stream",
     "text": [
      "21\n",
      "35\n",
      "42\n",
      "56\n",
      "63\n",
      "84\n",
      "91\n"
     ]
    }
   ],
   "source": [
    "lis = [18,21,29,32,35,42,56,60,63,71,84,90,91,100]\n",
    "divisible = [print(numero) for numero in lis if numero%7 == 0]"
   ]
  },
  {
   "attachments": {},
   "cell_type": "markdown",
   "metadata": {},
   "source": [
    "15) A partir de la lista de a continuación, contar la cantidad total de elementos que contiene, teniendo en cuenta que un elemento de la lista podría ser otra lista:<br>\n",
    "lis = [[1,2,3,4],'rojo','verde',[True,False,False],['uno','dos','tres']]"
   ]
  },
  {
   "cell_type": "code",
   "execution_count": 28,
   "metadata": {},
   "outputs": [
    {
     "name": "stdout",
     "output_type": "stream",
     "text": [
      "12\n"
     ]
    }
   ],
   "source": [
    "lis = [[1,2,3,4],'rojo','verde',[True,False,False],['uno','dos','tres']]\n",
    "\n",
    "cuenta = 0\n",
    "\n",
    "for elemento in lis:\n",
    "    if type(elemento) == list:\n",
    "        cuenta += len(elemento)\n",
    "    else:\n",
    "        cuenta += 1\n",
    "\n",
    "print(cuenta)"
   ]
  },
  {
   "attachments": {},
   "cell_type": "markdown",
   "metadata": {},
   "source": [
    "16) Tomar la lista del punto anterior y convertir cada elemento en una lista si no lo es"
   ]
  },
  {
   "cell_type": "code",
   "execution_count": 43,
   "metadata": {},
   "outputs": [
    {
     "name": "stdout",
     "output_type": "stream",
     "text": [
      "[[1, 2, 3, 4], 'rojo', 'verde', [True, False, False], ['uno', 'dos', 'tres']]\n",
      "[[1, 2, 3, 4], ['rojo'], ['verde'], [True, False, False], ['uno', 'dos', 'tres']]\n"
     ]
    }
   ],
   "source": [
    "print(lis)\n",
    "\n",
    "for indice, elemento in enumerate(lis):\n",
    "    if type(elemento) != list:\n",
    "        lis[indice] = [elemento]\n",
    "\n",
    "print(lis)"
   ]
  }
 ],
 "metadata": {
  "interpreter": {
   "hash": "c85384e4cb51c8b72350f3a8712cc8351fdc3955e32a27f9b60c6242ab125f01"
  },
  "kernelspec": {
   "display_name": "Python 3 (ipykernel)",
   "language": "python",
   "name": "python3"
  },
  "language_info": {
   "codemirror_mode": {
    "name": "ipython",
    "version": 3
   },
   "file_extension": ".py",
   "mimetype": "text/x-python",
   "name": "python",
   "nbconvert_exporter": "python",
   "pygments_lexer": "ipython3",
   "version": "3.11.5"
  }
 },
 "nbformat": 4,
 "nbformat_minor": 4
}
